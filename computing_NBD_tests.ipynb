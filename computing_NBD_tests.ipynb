{
 "cells": [
  {
   "cell_type": "code",
   "execution_count": 35,
   "metadata": {},
   "outputs": [],
   "source": [
    "import numpy as np\n",
    "import math\n",
    "from single_echelon_utils.demand_models import logarithmic_alpha"
   ]
  },
  {
   "cell_type": "markdown",
   "metadata": {},
   "source": [
    "# Test case from a dist with p and r as:"
   ]
  },
  {
   "cell_type": "code",
   "execution_count": 83,
   "metadata": {},
   "outputs": [
    {
     "name": "stdout",
     "output_type": "stream",
     "text": [
      "p = 0.11111111111111116, r = 1919.999999999999\n"
     ]
    }
   ],
   "source": [
    "k = 500\n",
    "\n",
    "L = 30\n",
    "mu_L = 8*L\n",
    "sigma2_L = 9*L\n",
    "p = logarithmic_alpha(mu_L,sigma2_L)\n",
    "r = mu_L*(1-p)/p\n",
    "\n",
    "print(f\"p = {p}, r = {r}\")"
   ]
  },
  {
   "cell_type": "code",
   "execution_count": 84,
   "metadata": {},
   "outputs": [
    {
     "ename": "OverflowError",
     "evalue": "int too large to convert to float",
     "output_type": "error",
     "traceback": [
      "\u001b[0;31m---------------------------------------------------------------------------\u001b[0m",
      "\u001b[0;31mOverflowError\u001b[0m                             Traceback (most recent call last)",
      "\u001b[1;32m/Users/jakobbengtsson/Library/Mobile Documents/com~apple~CloudDocs/Documents/Master_thesis/computing_NBD_tests.ipynb Cell 4'\u001b[0m in \u001b[0;36m<cell line: 10>\u001b[0;34m()\u001b[0m\n\u001b[1;32m      <a href='vscode-notebook-cell:/Users/jakobbengtsson/Library/Mobile%20Documents/com~apple~CloudDocs/Documents/Master_thesis/computing_NBD_tests.ipynb#ch0000002?line=6'>7</a>\u001b[0m     P_D_k \u001b[39m*\u001b[39m\u001b[39m=\u001b[39m (r \u001b[39m+\u001b[39m temp)\n\u001b[1;32m      <a href='vscode-notebook-cell:/Users/jakobbengtsson/Library/Mobile%20Documents/com~apple~CloudDocs/Documents/Master_thesis/computing_NBD_tests.ipynb#ch0000002?line=7'>8</a>\u001b[0m     temp \u001b[39m+\u001b[39m\u001b[39m=\u001b[39m \u001b[39m1\u001b[39m\n\u001b[0;32m---> <a href='vscode-notebook-cell:/Users/jakobbengtsson/Library/Mobile%20Documents/com~apple~CloudDocs/Documents/Master_thesis/computing_NBD_tests.ipynb#ch0000002?line=9'>10</a>\u001b[0m P_D_k \u001b[39m=\u001b[39m (P_D_k \u001b[39m/\u001b[39;49m np\u001b[39m.\u001b[39;49mmath\u001b[39m.\u001b[39;49mfactorial(k))\u001b[39m*\u001b[39m((\u001b[39m1\u001b[39m\u001b[39m-\u001b[39mp)\u001b[39m*\u001b[39m\u001b[39m*\u001b[39mr)\u001b[39m*\u001b[39m(p\u001b[39m*\u001b[39m\u001b[39m*\u001b[39mk)\n\u001b[1;32m     <a href='vscode-notebook-cell:/Users/jakobbengtsson/Library/Mobile%20Documents/com~apple~CloudDocs/Documents/Master_thesis/computing_NBD_tests.ipynb#ch0000002?line=11'>12</a>\u001b[0m P_D_k\n",
      "\u001b[0;31mOverflowError\u001b[0m: int too large to convert to float"
     ]
    }
   ],
   "source": [
    "# Method #1 holds until k > 101\n",
    "# Issue is that the numerator multiplication in while-loop reaches too large of a value.\n",
    "\n",
    "P_D_k = 1\n",
    "temp = 0\n",
    "while temp < k:\n",
    "    P_D_k *= (r + temp)\n",
    "    temp += 1\n",
    "\n",
    "P_D_k = (P_D_k / np.math.factorial(k))*((1-p)**r)*(p**k)\n",
    "\n",
    "P_D_k"
   ]
  },
  {
   "cell_type": "code",
   "execution_count": null,
   "metadata": {},
   "outputs": [],
   "source": [
    "# Method #2 holds until k > 170\n",
    "# Handles multiplication issue by including the denominator in while-loop.\n",
    "# Issue: Factorial of 171 and above is a huge int, thus the conversion in math.pow \n",
    "# does not work. Solution: calculate logarithm of the factorial.\n",
    "\n",
    "denominator = np.math.factorial(k)\n",
    "d = math.pow(denominator,1/(k))\n",
    "\n",
    "denom = 1\n",
    "P_D_k = 1\n",
    "temp = 0\n",
    "while temp < k:\n",
    "    P_D_k *= (r + temp)/d\n",
    "    denom *= d\n",
    "    temp += 1\n",
    "\n",
    "P_D_k *= math.pow(1-p,r)*math.pow(p,k)\n",
    "\n",
    "\n",
    "print(P_D_k)"
   ]
  },
  {
   "cell_type": "code",
   "execution_count": 87,
   "metadata": {},
   "outputs": [
    {
     "name": "stdout",
     "output_type": "stream",
     "text": [
      "p_d_k = nan, log(k!) = 2611.3304584601565, d = 185.42693386260885, last mult: 0.0\n"
     ]
    }
   ],
   "source": [
    "# Method 3, computes factorial of k.\n",
    "# As of now, only works up until logarithm-list range.\n",
    "# problem that math.pow(p,k) is so small for large k (and small p) that it holds up until k = 300 or so. \n",
    "# Will probably not be a problem. This is what is gonna be used.\n",
    "\n",
    "logarithm_list = np.array([math.log(i) for i in range(1,1000)]) # idx i holds value log(i+1)\n",
    "denominator_log = np.sum(logarithm_list[:k]) # denominator_log = log(k!)\n",
    "d = math.exp(denominator_log/k) # d = e^(log(k!)/k) = (k!)^(1/k)\n",
    "\n",
    "P_D_k = 1\n",
    "temp = 0\n",
    "while temp < k:\n",
    "    P_D_k *= (r + temp)/d\n",
    "    temp += 1\n",
    "\n",
    "P_D_k *= math.pow(1-p,r)*math.pow(p,k)\n",
    "\n",
    "\n",
    "print(f\"p_d_k = {P_D_k}, log(k!) = {denominator_log}, d = {d}, last mult: {math.pow(1-p,r)*math.pow(p,k)}\")"
   ]
  },
  {
   "cell_type": "code",
   "execution_count": 88,
   "metadata": {},
   "outputs": [
    {
     "data": {
      "text/plain": [
       "6.12571660397327e-99"
      ]
     },
     "execution_count": 88,
     "metadata": {},
     "output_type": "execute_result"
    }
   ],
   "source": [
    "math.pow(1-p,r)"
   ]
  },
  {
   "cell_type": "code",
   "execution_count": 94,
   "metadata": {},
   "outputs": [
    {
     "data": {
      "text/plain": [
       "1.258843915e-315"
      ]
     },
     "execution_count": 94,
     "metadata": {},
     "output_type": "execute_result"
    }
   ],
   "source": [
    "k = 330\n",
    "math.pow(p,k)"
   ]
  },
  {
   "cell_type": "code",
   "execution_count": null,
   "metadata": {},
   "outputs": [],
   "source": []
  }
 ],
 "metadata": {
  "interpreter": {
   "hash": "12d6cfd3ecb2dfa9ee95dd40e3b1bce170efa21642c0ba9dab004f8f04c14370"
  },
  "kernelspec": {
   "display_name": "Python 3.10.2 ('master_thesis')",
   "language": "python",
   "name": "python3"
  },
  "language_info": {
   "codemirror_mode": {
    "name": "ipython",
    "version": 3
   },
   "file_extension": ".py",
   "mimetype": "text/x-python",
   "name": "python",
   "nbconvert_exporter": "python",
   "pygments_lexer": "ipython3",
   "version": "3.10.2"
  },
  "orig_nbformat": 4
 },
 "nbformat": 4,
 "nbformat_minor": 2
}
