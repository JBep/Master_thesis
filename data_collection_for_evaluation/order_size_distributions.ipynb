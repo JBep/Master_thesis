{
 "cells": [
  {
   "cell_type": "markdown",
   "metadata": {},
   "source": [
    "## Order size distributions\n",
    "This script computes order size distributions from historical demand data collected form \n",
    "demand transactions in MMI."
   ]
  },
  {
   "cell_type": "code",
   "execution_count": 14,
   "metadata": {},
   "outputs": [],
   "source": [
    "import pandas as pd\n",
    "import numpy as np\n"
   ]
  },
  {
   "cell_type": "code",
   "execution_count": 15,
   "metadata": {},
   "outputs": [
    {
     "data": {
      "text/html": [
       "<div>\n",
       "<style scoped>\n",
       "    .dataframe tbody tr th:only-of-type {\n",
       "        vertical-align: middle;\n",
       "    }\n",
       "\n",
       "    .dataframe tbody tr th {\n",
       "        vertical-align: top;\n",
       "    }\n",
       "\n",
       "    .dataframe thead th {\n",
       "        text-align: right;\n",
       "    }\n",
       "</style>\n",
       "<table border=\"1\" class=\"dataframe\">\n",
       "  <thead>\n",
       "    <tr style=\"text-align: right;\">\n",
       "      <th></th>\n",
       "      <th>Interesting items</th>\n",
       "      <th>Unnamed: 1</th>\n",
       "    </tr>\n",
       "  </thead>\n",
       "  <tbody>\n",
       "    <tr>\n",
       "      <th>0</th>\n",
       "      <td>1030-61460</td>\n",
       "      <td>NaN</td>\n",
       "    </tr>\n",
       "    <tr>\n",
       "      <th>1</th>\n",
       "      <td>11033998</td>\n",
       "      <td>NaN</td>\n",
       "    </tr>\n",
       "    <tr>\n",
       "      <th>2</th>\n",
       "      <td>11033999</td>\n",
       "      <td>NaN</td>\n",
       "    </tr>\n",
       "  </tbody>\n",
       "</table>\n",
       "</div>"
      ],
      "text/plain": [
       "  Interesting items Unnamed: 1\n",
       "0        1030-61460        NaN\n",
       "1          11033998        NaN\n",
       "2          11033999        NaN"
      ]
     },
     "execution_count": 15,
     "metadata": {},
     "output_type": "execute_result"
    }
   ],
   "source": [
    "investigated_items_path = \"/Volumes/GoogleDrive/.shortcut-targets-by-id/10oYqI9u7nCLK0q7xF2CvGGIQVokusjaI/Exjobb/7. Data collection/investigated_items.xlsx\"\n",
    "items = pd.read_excel(investigated_items_path,\"Sheet1\")\n",
    "items.head(3)"
   ]
  },
  {
   "cell_type": "code",
   "execution_count": 16,
   "metadata": {},
   "outputs": [],
   "source": [
    "excel_path = \"/Volumes/GoogleDrive/.shortcut-targets-by-id/10oYqI9u7nCLK0q7xF2CvGGIQVokusjaI/Exjobb/7. Data collection/item_demand_size_distributions.xlsx\"\n",
    "writer = pd.ExcelWriter(excel_path)\n",
    "\n",
    "for item_code in items[\"Interesting items\"]:\n",
    "    demand_history_dir = \"/Volumes/GoogleDrive/.shortcut-targets-by-id/10oYqI9u7nCLK0q7xF2CvGGIQVokusjaI/Exjobb/7. Data collection/item_demand_history_csv_files\"\n",
    "    demand_history_path = f\"{demand_history_dir}/dh_{item_code}.csv\"\n",
    "    demand_history_df = pd.read_csv(demand_history_path)\n",
    "\n",
    "    input_dir = \"/Volumes/GoogleDrive/.shortcut-targets-by-id/10oYqI9u7nCLK0q7xF2CvGGIQVokusjaI/Exjobb/7. Data collection/item_input_csv_files\"\n",
    "    input_path = f\"{input_dir}/item_{item_code}_input.csv\"\n",
    "    input_df = pd.read_csv(input_path)\n",
    "\n",
    "    # Create output df\n",
    "    demand_size_dist_df = pd.DataFrame()\n",
    "\n",
    "    for name in input_df[\"Name\"]:\n",
    "        if name == \"Johannesburg\":\n",
    "            continue\n",
    "\n",
    "\n",
    "        # Picking out demands the the dealer at hand.\n",
    "        demand_history_dealer_df = demand_history_df[demand_history_df[\"Warehouse\"] == name]\n",
    "        \n",
    "        # Removing demands of negative values\n",
    "        demand_history_dealer_df = demand_history_dealer_df.astype({\"Demanded qty.\": int})\n",
    "        demand_history_dealer_df = demand_history_dealer_df.loc[demand_history_dealer_df[\"Demanded qty.\"] >= 0]\n",
    "\n",
    "        # Counting orders of different demand size \n",
    "        demand_count_dict = {}\n",
    "        for q in demand_history_dealer_df[\"Demanded qty.\"]:\n",
    "            if q in demand_count_dict:\n",
    "                demand_count_dict[q] += 1\n",
    "            else:\n",
    "                demand_count_dict[q] = 1\n",
    "        total_amount_of_orders = len(demand_history_dealer_df)\n",
    "\n",
    "        # Computing demand size frequencies.\n",
    "        demand_frequency_dict = {}\n",
    "        for key in demand_count_dict.keys():\n",
    "            demand_frequency_dict[key] = demand_count_dict[key]/total_amount_of_orders\n",
    "\n",
    "        max_demand_size = int(max(demand_frequency_dict.keys()))\n",
    "\n",
    "        # Index 0 contains freq of demand size 1 and so on.\n",
    "        demand_size_frequency_list = []\n",
    "        for i in range(max_demand_size):\n",
    "            k = i+1\n",
    "            if k in demand_frequency_dict:\n",
    "                demand_size_frequency_list.append(demand_frequency_dict[k])\n",
    "            else:\n",
    "                demand_size_frequency_list.append(0)\n",
    "\n",
    "        demand_size_arr = pd.Series(demand_size_frequency_list)\n",
    "        assert (demand_size_arr.sum(0) >= 1-10**-4 and demand_size_arr.sum(0) <= 1+10**-4) , f\"Sum of {item_code}, {name} is: {demand_size_arr.sum()}, not 1\"\n",
    "               \n",
    "        if not demand_size_dist_df.empty:\n",
    "            while len(demand_size_dist_df) < len(demand_size_arr):\n",
    "                demand_size_dist_matrix = demand_size_dist_df.to_numpy()\n",
    "                demand_size_dist_matrix = np.pad(demand_size_dist_matrix, ((0,len(demand_size_arr)-len(demand_size_dist_df)),(0,0)))\n",
    "                demand_size_dist_df = pd.DataFrame(demand_size_dist_matrix,columns=demand_size_dist_df.columns)\n",
    "\n",
    "        demand_size_dist_df[name] =  demand_size_arr\n",
    "\n",
    "\n",
    "    # Saving to csv\n",
    "    csv_dir = \"/Volumes/GoogleDrive/.shortcut-targets-by-id/10oYqI9u7nCLK0q7xF2CvGGIQVokusjaI/Exjobb/7. Data collection/item_demand_size_distributions_csv_files\"\n",
    "    csv_path = f\"{csv_dir}/item_{item_code}_d_size_dist.csv\"\n",
    "    demand_size_dist_df.to_csv(csv_path)\n",
    "\n",
    "    # Writing to excel\n",
    "    excel_sheet_name = f\"item_{item_code}_d_size_dist\"\n",
    "    demand_size_dist_df.to_excel(writer, sheet_name = excel_sheet_name) \n",
    "\n",
    "writer.save()\n",
    "    "
   ]
  },
  {
   "cell_type": "code",
   "execution_count": 72,
   "metadata": {},
   "outputs": [
    {
     "name": "stdout",
     "output_type": "stream",
     "text": [
      "This value is not possible to print: no 7850, value: 2,000\n"
     ]
    }
   ],
   "source": [
    "## Extra troubleshooting code-snippet.\n",
    "\n",
    "\n",
    "item_code = 15073006\n",
    "#item_code = 14688861\n",
    "demand_history_dir = \"/Volumes/GoogleDrive/.shortcut-targets-by-id/10oYqI9u7nCLK0q7xF2CvGGIQVokusjaI/Exjobb/7. Data collection/item_demand_history_csv_files\"\n",
    "demand_history_path = f\"{demand_history_dir}/dh_{item_code}.csv\"\n",
    "demand_history_df = pd.read_csv(demand_history_path)\n",
    "for i,d in enumerate(demand_history_df[\"Demanded qty.\"]):\n",
    "    #print(f\"num: {d}, type: {type(d)}\")\n",
    "    try:\n",
    "        x = int(d)\n",
    "    except ValueError:\n",
    "        print(f\"This value is not possible to print: no {i}, value: {d}\")\n",
    "    "
   ]
  },
  {
   "cell_type": "code",
   "execution_count": null,
   "metadata": {},
   "outputs": [],
   "source": []
  }
 ],
 "metadata": {
  "interpreter": {
   "hash": "12d6cfd3ecb2dfa9ee95dd40e3b1bce170efa21642c0ba9dab004f8f04c14370"
  },
  "kernelspec": {
   "display_name": "Python 3.10.2 ('master_thesis')",
   "language": "python",
   "name": "python3"
  },
  "language_info": {
   "codemirror_mode": {
    "name": "ipython",
    "version": 3
   },
   "file_extension": ".py",
   "mimetype": "text/x-python",
   "name": "python",
   "nbconvert_exporter": "python",
   "pygments_lexer": "ipython3",
   "version": "3.10.2"
  },
  "orig_nbformat": 4
 },
 "nbformat": 4,
 "nbformat_minor": 2
}
