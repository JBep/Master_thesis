{
 "cells": [
  {
   "cell_type": "markdown",
   "metadata": {},
   "source": [
    "## Raw data collection\n",
    "This script collects raw data from export from MMI Items menu into csv-files usable for\n",
    "reorder point optimization."
   ]
  },
  {
   "cell_type": "code",
   "execution_count": 1,
   "metadata": {},
   "outputs": [],
   "source": [
    "import numpy as np\n",
    "import pandas as pd\n",
    "import math"
   ]
  },
  {
   "cell_type": "code",
   "execution_count": 2,
   "metadata": {},
   "outputs": [],
   "source": [
    "raw_data_path = \"/Volumes/GoogleDrive/.shortcut-targets-by-id/10oYqI9u7nCLK0q7xF2CvGGIQVokusjaI/Exjobb/7. Data collection/item_data_raw_19_apr.xlsx\"\n",
    "raw_data_df = pd.read_excel(raw_data_path,\"Raw Data\")\n",
    "#raw_data_df.head(5)"
   ]
  },
  {
   "cell_type": "code",
   "execution_count": 8,
   "metadata": {},
   "outputs": [
    {
     "data": {
      "text/html": [
       "<div>\n",
       "<style scoped>\n",
       "    .dataframe tbody tr th:only-of-type {\n",
       "        vertical-align: middle;\n",
       "    }\n",
       "\n",
       "    .dataframe tbody tr th {\n",
       "        vertical-align: top;\n",
       "    }\n",
       "\n",
       "    .dataframe thead th {\n",
       "        text-align: right;\n",
       "    }\n",
       "</style>\n",
       "<table border=\"1\" class=\"dataframe\">\n",
       "  <thead>\n",
       "    <tr style=\"text-align: right;\">\n",
       "      <th></th>\n",
       "      <th>item code</th>\n",
       "    </tr>\n",
       "  </thead>\n",
       "  <tbody>\n",
       "    <tr>\n",
       "      <th>0</th>\n",
       "      <td>1030-61460</td>\n",
       "    </tr>\n",
       "    <tr>\n",
       "      <th>1</th>\n",
       "      <td>11033998</td>\n",
       "    </tr>\n",
       "    <tr>\n",
       "      <th>2</th>\n",
       "      <td>11033999</td>\n",
       "    </tr>\n",
       "    <tr>\n",
       "      <th>3</th>\n",
       "      <td>11110022</td>\n",
       "    </tr>\n",
       "    <tr>\n",
       "      <th>4</th>\n",
       "      <td>11110023</td>\n",
       "    </tr>\n",
       "    <tr>\n",
       "      <th>...</th>\n",
       "      <td>...</td>\n",
       "    </tr>\n",
       "    <tr>\n",
       "      <th>73</th>\n",
       "      <td>14725906</td>\n",
       "    </tr>\n",
       "    <tr>\n",
       "      <th>74</th>\n",
       "      <td>14750657</td>\n",
       "    </tr>\n",
       "    <tr>\n",
       "      <th>75</th>\n",
       "      <td>14882689</td>\n",
       "    </tr>\n",
       "    <tr>\n",
       "      <th>76</th>\n",
       "      <td>15035179</td>\n",
       "    </tr>\n",
       "    <tr>\n",
       "      <th>77</th>\n",
       "      <td>15072023</td>\n",
       "    </tr>\n",
       "  </tbody>\n",
       "</table>\n",
       "<p>78 rows × 1 columns</p>\n",
       "</div>"
      ],
      "text/plain": [
       "     item code\n",
       "0   1030-61460\n",
       "1     11033998\n",
       "2     11033999\n",
       "3     11110022\n",
       "4     11110023\n",
       "..         ...\n",
       "73    14725906\n",
       "74    14750657\n",
       "75    14882689\n",
       "76    15035179\n",
       "77    15072023\n",
       "\n",
       "[78 rows x 1 columns]"
      ]
     },
     "execution_count": 8,
     "metadata": {},
     "output_type": "execute_result"
    }
   ],
   "source": [
    "ids_path = '/Volumes/GoogleDrive/.shortcut-targets-by-id/10oYqI9u7nCLK0q7xF2CvGGIQVokusjaI/Exjobb/7. Data collection/investigated_items.xlsx'\n",
    "ids_df = pd.read_excel(ids_path,\"Sheet1\",usecols = \"A\")\n",
    "ids_df.columns = [\"item code\"]\n",
    "ids_df"
   ]
  },
  {
   "cell_type": "markdown",
   "metadata": {},
   "source": [
    "## Final script\n",
    "Here we will iterate through the list and save everything in csv and excel-files."
   ]
  },
  {
   "cell_type": "code",
   "execution_count": 9,
   "metadata": {},
   "outputs": [],
   "source": [
    "# Initiating excel-writer\n",
    "excel_path = \"/Volumes/GoogleDrive/.shortcut-targets-by-id/10oYqI9u7nCLK0q7xF2CvGGIQVokusjaI/Exjobb/7. Data collection/item_inputs.xlsx\"\n",
    "writer = pd.ExcelWriter(excel_path)\n",
    "\n",
    "for item_code in ids_df[\"item code\"]:\n",
    "    one_item_df  = raw_data_df[raw_data_df['Item code'] == item_code]\n",
    "    input_df = pd.DataFrame(columns=[\"Installation id\", \"Type\", \"Name\", \"Transport time\", \"Q\", \n",
    "                \"Unit cost\", \"Target item fill rate\", \"Demand distribution\",\t\n",
    "                \"Demand mean per time unit\", \"Demand stdev per time unit\",\"Demand type\",\"Stocked\"])\n",
    "    input_df[\"Name\"] = one_item_df[\"Warehouse name\"]\n",
    "    input_df[\"Installation id\"] = one_item_df[\"Warehouse name\"]\n",
    "    input_df[\"Transport time\"] = one_item_df[\"Lead time\"]\n",
    "    input_df[\"Q\"] = one_item_df[\"Constr. opt. OQ\"]\n",
    "    input_df[\"Unit cost\"] = one_item_df[\"Unit cost\"]\n",
    "    input_df[\"Demand mean per time unit\"] = one_item_df[\"EOD\"].to_numpy().astype(\"float64\")/30\n",
    "    input_df[\"Demand stdev per time unit\"] = one_item_df[\"Std. dev.\"].to_numpy().astype(\"float64\")/math.sqrt(30)\n",
    "    input_df[\"Demand type\"] = one_item_df[\"Demand type\"]\n",
    "    input_df[\"Stocked\"] = one_item_df[\"Stocked\"]\n",
    "    input_df[\"Inventory policy\"] = one_item_df[\"Inventory policy\"]\n",
    "\n",
    "    type_list = []\n",
    "    for name in input_df[\"Name\"]:\n",
    "        if name == \"Johannesburg\":\n",
    "            type_list.append(\"RDC\")\n",
    "        else:\n",
    "            type_list.append(\"Dealer\")\n",
    "    input_df[\"Type\"] = type_list\n",
    "\n",
    "    target_IFR_list = []\n",
    "    for target_rate in one_item_df[\"Target srv. lvl.\"]:\n",
    "        if target_rate is not np.nan:\n",
    "            target_fill_rate = (1/100)*float(target_rate[0:4])\n",
    "        else:\n",
    "            target_fill_rate = 0\n",
    "        target_IFR_list.append(target_fill_rate)\n",
    "    input_df[\"Target item fill rate\"] = target_IFR_list\n",
    "            \n",
    "    input_df[\"Demand distribution\"] = \"Empiric_Compound_Poisson\"\n",
    "\n",
    "    input_df = input_df.loc[input_df[\"Demand type\"] != \"Non-moving\"]\n",
    "    input_df = input_df.loc[input_df[\"Demand type\"] != \"Insufficient history\"]\n",
    "    input_df = input_df.loc[input_df[\"Demand type\"] != \"New\"]\n",
    "    input_df = input_df.loc[input_df[\"Demand type\"] != \"Obsolete\"]\n",
    "    \n",
    "    #Fixing indexes\n",
    "    input_df.index = range(0,len(input_df[\"Installation id\"]))\n",
    "\n",
    "    # Saving a csv\n",
    "    google_path = \"/Volumes/GoogleDrive/.shortcut-targets-by-id/10oYqI9u7nCLK0q7xF2CvGGIQVokusjaI/Exjobb/7. Data collection/item_input_csv_files\"\n",
    "    csv_path = f\"{google_path}/item_{item_code}_input.csv\"\n",
    "    input_df.to_csv(csv_path)\n",
    "\n",
    "    # Writing to excel\n",
    "    excel_sheet_name = f\"item_{item_code}_input\"\n",
    "    input_df.to_excel(writer, sheet_name = excel_sheet_name) \n",
    "\n",
    "writer.save()"
   ]
  },
  {
   "cell_type": "code",
   "execution_count": null,
   "metadata": {},
   "outputs": [],
   "source": []
  }
 ],
 "metadata": {
  "interpreter": {
   "hash": "12d6cfd3ecb2dfa9ee95dd40e3b1bce170efa21642c0ba9dab004f8f04c14370"
  },
  "kernelspec": {
   "display_name": "Python 3.10.2 ('master_thesis')",
   "language": "python",
   "name": "python3"
  },
  "language_info": {
   "codemirror_mode": {
    "name": "ipython",
    "version": 3
   },
   "file_extension": ".py",
   "mimetype": "text/x-python",
   "name": "python",
   "nbconvert_exporter": "python",
   "pygments_lexer": "ipython3",
   "version": "3.10.2"
  },
  "orig_nbformat": 4
 },
 "nbformat": 4,
 "nbformat_minor": 2
}
