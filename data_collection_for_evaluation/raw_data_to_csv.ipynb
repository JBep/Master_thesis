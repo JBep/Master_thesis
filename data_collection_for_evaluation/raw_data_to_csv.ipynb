{
 "cells": [
  {
   "cell_type": "markdown",
   "metadata": {},
   "source": [
    "## Raw data collection\n",
    "This script collects raw data from export from MMI Items menu into csv-files usable for\n",
    "reorder point optimization."
   ]
  },
  {
   "cell_type": "code",
   "execution_count": 20,
   "metadata": {},
   "outputs": [],
   "source": [
    "import numpy as np\n",
    "import pandas as pd\n",
    "import math"
   ]
  },
  {
   "cell_type": "code",
   "execution_count": 22,
   "metadata": {},
   "outputs": [],
   "source": [
    "raw_data_path = \"/Volumes/GoogleDrive/.shortcut-targets-by-id/10oYqI9u7nCLK0q7xF2CvGGIQVokusjaI/Exjobb/7. Data collection/item_data_raw_19_apr.xlsx\"\n",
    "raw_data_df = pd.read_excel(raw_data_path,\"Raw Data\")\n",
    "#raw_data_df.head(5)"
   ]
  },
  {
   "cell_type": "code",
   "execution_count": 23,
   "metadata": {},
   "outputs": [],
   "source": [
    "ids_df = pd.read_excel(raw_data_path,\"Interesting items\")\n",
    "ids_df.columns = [\"item code\"]"
   ]
  },
  {
   "cell_type": "markdown",
   "metadata": {},
   "source": [
    "## Final script\n",
    "Here we will iterate through the list and save everything in csv and excel-files."
   ]
  },
  {
   "cell_type": "code",
   "execution_count": 24,
   "metadata": {},
   "outputs": [],
   "source": [
    "# Initiating excel-writer\n",
    "excel_path = \"/Volumes/GoogleDrive/.shortcut-targets-by-id/10oYqI9u7nCLK0q7xF2CvGGIQVokusjaI/Exjobb/7. Data collection/item_inputs.xlsx\"\n",
    "writer = pd.ExcelWriter(excel_path)\n",
    "\n",
    "for item_code in ids_df[\"item code\"]:\n",
    "    one_item_df  = raw_data_df[raw_data_df['Item code'] == item_code]\n",
    "    input_df = pd.DataFrame(columns=[\"Installation id\", \"Type\", \"Name\", \"Transport time\", \"Q\", \n",
    "                \"Unit cost\", \"Target item fill rate\", \"Demand distribution\",\t\n",
    "                \"Demand mean per time unit\", \"Demand stdev per time unit\",\"Demand type\",\"Stocked\"])\n",
    "    input_df[\"Name\"] = one_item_df[\"Warehouse name\"]\n",
    "    input_df[\"Installation id\"] = one_item_df[\"Warehouse name\"]\n",
    "    input_df[\"Transport time\"] = one_item_df[\"Lead time\"]\n",
    "    input_df[\"Q\"] = one_item_df[\"Constr. opt. OQ\"]\n",
    "    input_df[\"Unit cost\"] = one_item_df[\"Unit cost\"]\n",
    "    input_df[\"Demand mean per time unit\"] = one_item_df[\"EOD\"].to_numpy().astype(\"float64\")/30\n",
    "    input_df[\"Demand stdev per time unit\"] = one_item_df[\"Std. dev.\"].to_numpy().astype(\"float64\")/math.sqrt(30)\n",
    "    input_df[\"Demand type\"] = one_item_df[\"Demand type\"]\n",
    "    input_df[\"Stocked\"] = one_item_df[\"Stocked\"]\n",
    "\n",
    "    type_list = []\n",
    "    for name in input_df[\"Name\"]:\n",
    "        if name == \"Johannesburg\":\n",
    "            type_list.append(\"RDC\")\n",
    "        else:\n",
    "            type_list.append(\"Dealer\")\n",
    "    input_df[\"Type\"] = type_list\n",
    "\n",
    "    target_IFR_list = []\n",
    "    for target_rate in one_item_df[\"Target srv. lvl.\"]:\n",
    "        if target_rate is not np.nan:\n",
    "            target_fill_rate = (1/100)*float(target_rate[0:4])\n",
    "        else:\n",
    "            target_fill_rate = 0\n",
    "        target_IFR_list.append(target_fill_rate)\n",
    "    input_df[\"Target item fill rate\"] = target_IFR_list\n",
    "            \n",
    "    input_df[\"Demand distribution\"] = \"Empiric_Compound_Poisson\"\n",
    "\n",
    "    input_df = input_df.loc[input_df[\"Demand type\"] != \"Non-moving\"]\n",
    "    input_df = input_df.loc[input_df[\"Demand type\"] != \"Insufficient history\"]\n",
    "    input_df = input_df.loc[input_df[\"Demand type\"] != \"New\"]\n",
    "    input_df = input_df.loc[input_df[\"Demand type\"] != \"Obsolete\"]\n",
    "    \n",
    "    #Fixing indexes\n",
    "    input_df.index = range(0,len(input_df[\"Installation id\"]))\n",
    "\n",
    "    # Saving a csv\n",
    "    google_path = \"/Volumes/GoogleDrive/.shortcut-targets-by-id/10oYqI9u7nCLK0q7xF2CvGGIQVokusjaI/Exjobb/7. Data collection/item_input_csv_files\"\n",
    "    csv_path = f\"{google_path}/item_{item_code}_input.csv\"\n",
    "    input_df.to_csv(csv_path)\n",
    "\n",
    "    # Writing to excel\n",
    "    excel_sheet_name = f\"item_{item_code}_input\"\n",
    "    input_df.to_excel(writer, sheet_name = excel_sheet_name) \n",
    "\n",
    "writer.save()"
   ]
  },
  {
   "cell_type": "code",
   "execution_count": null,
   "metadata": {},
   "outputs": [],
   "source": []
  }
 ],
 "metadata": {
  "interpreter": {
   "hash": "12d6cfd3ecb2dfa9ee95dd40e3b1bce170efa21642c0ba9dab004f8f04c14370"
  },
  "kernelspec": {
   "display_name": "Python 3.10.2 ('master_thesis')",
   "language": "python",
   "name": "python3"
  },
  "language_info": {
   "codemirror_mode": {
    "name": "ipython",
    "version": 3
   },
   "file_extension": ".py",
   "mimetype": "text/x-python",
   "name": "python",
   "nbconvert_exporter": "python",
   "pygments_lexer": "ipython3",
   "version": "3.9.7"
  },
  "orig_nbformat": 4
 },
 "nbformat": 4,
 "nbformat_minor": 2
}
