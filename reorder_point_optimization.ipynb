{
 "cells": [
  {
   "cell_type": "code",
   "execution_count": 9,
   "metadata": {},
   "outputs": [],
   "source": [
    "import pandas as pd\n",
    "import numpy as np\n",
    "\n",
    "from warehouse_modeling.induced_backorder_cost import *\n",
    "from warehouse_modeling.warehouse_optimization import *\n",
    "from warehouse_modeling.warehouse_demand_modeling import *\n",
    "\n",
    "from single_echelon_utils.inventory_level_computation import *\n",
    "from single_echelon_utils.service_level_computation import *\n",
    "from single_echelon_utils.dealer_optimization import *\n",
    "\n",
    "from utils import *"
   ]
  },
  {
   "cell_type": "markdown",
   "metadata": {},
   "source": [
    "## INDATA\n",
    "First, read indata from a specified excel file and sheet."
   ]
  },
  {
   "cell_type": "code",
   "execution_count": 2,
   "metadata": {},
   "outputs": [
    {
     "data": {
      "text/html": [
       "<div>\n",
       "<style scoped>\n",
       "    .dataframe tbody tr th:only-of-type {\n",
       "        vertical-align: middle;\n",
       "    }\n",
       "\n",
       "    .dataframe tbody tr th {\n",
       "        vertical-align: top;\n",
       "    }\n",
       "\n",
       "    .dataframe thead th {\n",
       "        text-align: right;\n",
       "    }\n",
       "</style>\n",
       "<table border=\"1\" class=\"dataframe\">\n",
       "  <thead>\n",
       "    <tr style=\"text-align: right;\">\n",
       "      <th></th>\n",
       "      <th>Installation id</th>\n",
       "      <th>Type</th>\n",
       "      <th>Name</th>\n",
       "      <th>Transport time</th>\n",
       "      <th>Q</th>\n",
       "      <th>Holding cost</th>\n",
       "      <th>Target item fill rate</th>\n",
       "      <th>Demand type</th>\n",
       "      <th>Demand mean</th>\n",
       "      <th>Demand stdev</th>\n",
       "    </tr>\n",
       "  </thead>\n",
       "  <tbody>\n",
       "    <tr>\n",
       "      <th>0</th>\n",
       "      <td>1</td>\n",
       "      <td>RDC</td>\n",
       "      <td>Johannesburg</td>\n",
       "      <td>10</td>\n",
       "      <td>40</td>\n",
       "      <td>NaN</td>\n",
       "      <td>NaN</td>\n",
       "      <td>NaN</td>\n",
       "      <td>NaN</td>\n",
       "      <td>NaN</td>\n",
       "    </tr>\n",
       "    <tr>\n",
       "      <th>1</th>\n",
       "      <td>2</td>\n",
       "      <td>Dealer</td>\n",
       "      <td>Deal1</td>\n",
       "      <td>10</td>\n",
       "      <td>10</td>\n",
       "      <td>1.0</td>\n",
       "      <td>0.95</td>\n",
       "      <td>Normal</td>\n",
       "      <td>10.0</td>\n",
       "      <td>4.0</td>\n",
       "    </tr>\n",
       "    <tr>\n",
       "      <th>2</th>\n",
       "      <td>3</td>\n",
       "      <td>Dealer</td>\n",
       "      <td>Deal2</td>\n",
       "      <td>3</td>\n",
       "      <td>10</td>\n",
       "      <td>1.0</td>\n",
       "      <td>0.95</td>\n",
       "      <td>Poisson</td>\n",
       "      <td>4.0</td>\n",
       "      <td>4.0</td>\n",
       "    </tr>\n",
       "    <tr>\n",
       "      <th>3</th>\n",
       "      <td>4</td>\n",
       "      <td>Dealer</td>\n",
       "      <td>Deal3</td>\n",
       "      <td>2</td>\n",
       "      <td>10</td>\n",
       "      <td>1.0</td>\n",
       "      <td>0.95</td>\n",
       "      <td>Poisson</td>\n",
       "      <td>4.0</td>\n",
       "      <td>4.0</td>\n",
       "    </tr>\n",
       "    <tr>\n",
       "      <th>4</th>\n",
       "      <td>5</td>\n",
       "      <td>Dealer</td>\n",
       "      <td>Deal4</td>\n",
       "      <td>4</td>\n",
       "      <td>10</td>\n",
       "      <td>1.0</td>\n",
       "      <td>0.95</td>\n",
       "      <td>NBD</td>\n",
       "      <td>3.0</td>\n",
       "      <td>6.0</td>\n",
       "    </tr>\n",
       "    <tr>\n",
       "      <th>5</th>\n",
       "      <td>6</td>\n",
       "      <td>Dealer</td>\n",
       "      <td>Deal5</td>\n",
       "      <td>5</td>\n",
       "      <td>10</td>\n",
       "      <td>1.0</td>\n",
       "      <td>0.95</td>\n",
       "      <td>NBD</td>\n",
       "      <td>3.0</td>\n",
       "      <td>4.0</td>\n",
       "    </tr>\n",
       "  </tbody>\n",
       "</table>\n",
       "</div>"
      ],
      "text/plain": [
       "   Installation id    Type          Name  Transport time   Q  Holding cost  \\\n",
       "0                1     RDC  Johannesburg              10  40           NaN   \n",
       "1                2  Dealer         Deal1              10  10           1.0   \n",
       "2                3  Dealer         Deal2               3  10           1.0   \n",
       "3                4  Dealer         Deal3               2  10           1.0   \n",
       "4                5  Dealer         Deal4               4  10           1.0   \n",
       "5                6  Dealer         Deal5               5  10           1.0   \n",
       "\n",
       "   Target item fill rate Demand type  Demand mean  Demand stdev  \n",
       "0                    NaN         NaN          NaN           NaN  \n",
       "1                   0.95      Normal         10.0           4.0  \n",
       "2                   0.95     Poisson          4.0           4.0  \n",
       "3                   0.95     Poisson          4.0           4.0  \n",
       "4                   0.95         NBD          3.0           6.0  \n",
       "5                   0.95         NBD          3.0           4.0  "
      ]
     },
     "execution_count": 2,
     "metadata": {},
     "output_type": "execute_result"
    }
   ],
   "source": [
    "excel_path = \"/Users/jakobbengtsson/Desktop/testdata_exjobb.xlsx\"\n",
    "indata_sheet = \"indata\"\n",
    "indataDF = pd.read_excel(excel_path,indata_sheet)\n",
    "outdataDF = indataDF.copy()\n",
    "indataDF"
   ]
  },
  {
   "cell_type": "code",
   "execution_count": 3,
   "metadata": {},
   "outputs": [],
   "source": [
    "Q_dealer_arr = indataDF.get(indataDF[\"Type\"] == \"Dealer\").get(\"Q\").to_numpy()\n",
    "mu_dealer_arr = indataDF.get(indataDF[\"Type\"] == \"Dealer\").get(\"Demand mean\").to_numpy()\n",
    "sigma_dealer_arr = indataDF.get(indataDF[\"Type\"] == \"Dealer\").get(\"Demand stdev\").to_numpy()\n",
    "demand_type_arr = indataDF.get(indataDF[\"Type\"] == \"Dealer\").get(\"Demand type\").to_numpy()\n",
    "Q_subbatch_size = find_smallest_divisor(Q_dealer_arr)\n",
    "L_wh = float(indataDF.get(indataDF[\"Type\"]==\"RDC\").get(\"Transport time\"))"
   ]
  },
  {
   "cell_type": "code",
   "execution_count": 4,
   "metadata": {},
   "outputs": [],
   "source": [
    "\n",
    "wh_prob, wh_dist, mu_L, sigma2_L = warehouse_subbatch_demand_probability_array(Q_dealer_arr, mu_dealer_arr, \n",
    "    sigma_dealer_arr, demand_type_arr, L_wh, Q_subbatch_size)"
   ]
  },
  {
   "cell_type": "code",
   "execution_count": 6,
   "metadata": {},
   "outputs": [
    {
     "name": "stdout",
     "output_type": "stream",
     "text": [
      "[3.03216769e-16 4.51942900e-15 6.37390501e-14 7.96134557e-13\n",
      " 8.84650498e-12 8.74315939e-11 7.68676554e-10 6.01262825e-09\n",
      " 4.18518073e-08 2.59296460e-07 1.43034270e-06 7.02757765e-06\n",
      " 3.07677249e-05 1.20105903e-04 4.18346016e-04 1.30142749e-03\n",
      " 3.62027373e-03 9.01925590e-03 2.01636403e-02 4.05549369e-02\n",
      " 7.36242402e-02 1.21152485e-01 1.81685159e-01 2.50000000e-01\n",
      " 3.18314841e-01]\n",
      "Normal 24.0 8.442119328620553 1.020014245320695\n"
     ]
    }
   ],
   "source": [
    "print(wh_prob)\n",
    "print(wh_dist, mu_L, sigma2_L, sum(wh_prob))"
   ]
  },
  {
   "cell_type": "code",
   "execution_count": null,
   "metadata": {},
   "outputs": [],
   "source": []
  }
 ],
 "metadata": {
  "interpreter": {
   "hash": "12d6cfd3ecb2dfa9ee95dd40e3b1bce170efa21642c0ba9dab004f8f04c14370"
  },
  "kernelspec": {
   "display_name": "Python 3.10.2 ('master_thesis')",
   "language": "python",
   "name": "python3"
  },
  "language_info": {
   "codemirror_mode": {
    "name": "ipython",
    "version": 3
   },
   "file_extension": ".py",
   "mimetype": "text/x-python",
   "name": "python",
   "nbconvert_exporter": "python",
   "pygments_lexer": "ipython3",
   "version": "3.10.2"
  },
  "orig_nbformat": 4
 },
 "nbformat": 4,
 "nbformat_minor": 2
}
