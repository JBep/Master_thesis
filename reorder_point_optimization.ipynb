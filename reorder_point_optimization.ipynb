{
 "cells": [
  {
   "cell_type": "code",
   "execution_count": 39,
   "metadata": {},
   "outputs": [],
   "source": [
    "import pandas as pd\n",
    "import numpy as np\n",
    "\n",
    "from warehouse_modeling.induced_backorder_cost import *\n",
    "from warehouse_modeling.lead_time_approximation import *\n",
    "from warehouse_modeling.warehouse_optimization import *\n",
    "from warehouse_modeling.warehouse_demand_modeling import *\n",
    "\n",
    "from single_echelon_utils.inventory_level_computation import *\n",
    "from single_echelon_utils.service_level_computation import *\n",
    "from single_echelon_utils.dealer_optimization import *\n",
    "\n",
    "from utils import *"
   ]
  },
  {
   "cell_type": "markdown",
   "metadata": {},
   "source": [
    "## INDATA\n",
    "First, read indata from a specified excel file and sheet."
   ]
  },
  {
   "cell_type": "code",
   "execution_count": 40,
   "metadata": {},
   "outputs": [],
   "source": [
    "excel_path = \"/Users/AlexanderLarsson/documents/VSCode/test_indata_latest.xlsx\"\n",
    "indata_sheet = \"test_case_10_wh_emp\"\n",
    "indataDF = pd.read_excel(excel_path,indata_sheet)\n",
    "outdataDF = indataDF.copy()\n"
   ]
  },
  {
   "cell_type": "code",
   "execution_count": 41,
   "metadata": {},
   "outputs": [],
   "source": [
    "Q_dealer_arr = indataDF.get(indataDF[\"Type\"] == \"Dealer\").get(\"Q\").to_numpy()\n",
    "mu_dealer_arr = indataDF.get(indataDF[\"Type\"] == \"Dealer\").get(\"Demand mean\").to_numpy()\n",
    "demand_type_arr = indataDF.get(indataDF[\"Type\"] == \"Dealer\").get(\"Demand type\").to_numpy()\n",
    "\n",
    "for id in indataDF.get(indataDF[\"Type\"] == \"Dealer\").get(\"Installation id\"):\n",
    "    if indataDF.get(indataDF[\"Installation id\"] == id).get(\"Demand type\").to_numpy() == \"Poisson\":\n",
    "        indataDF.loc[indataDF[\"Installation id\"] == id, \"Demand stdev\"] = math.sqrt(indataDF.loc[outdataDF[\"Installation id\"]== id, \"Demand mean\"].to_numpy())\n",
    "\n",
    "# New change\n",
    "\n",
    "sigma_dealer_arr = indataDF.get(indataDF[\"Type\"] == \"Dealer\").get(\"Demand stdev\").to_numpy()\n",
    "\n",
    "\n",
    "Q_subbatch_size = find_smallest_divisor(Q_dealer_arr)\n",
    "L_wh = float(indataDF.get(indataDF[\"Type\"]==\"RDC\").get(\"Transport time\"))"
   ]
  },
  {
   "cell_type": "code",
   "execution_count": 42,
   "metadata": {},
   "outputs": [],
   "source": [
    "# Input compounding distribution arrays here!\n",
    "# Supposed to have one row per dealer.\n",
    "sheet_name_comp_dist = \"test_case_10_compounding_dist\"\n",
    "compounding_dist_df = pd.read_excel(excel_path,sheet_name_comp_dist)\n",
    "compounding_dist_matrix = compounding_dist_df.to_numpy().T[1:] # Each array is a column in excel, transposing and removing first row holding item amounts.\n",
    "compounding_dist_matrix = np.nan_to_num(compounding_dist_matrix,copy = True)\n"
   ]
  },
  {
   "cell_type": "code",
   "execution_count": 43,
   "metadata": {},
   "outputs": [],
   "source": [
    "\n",
    "rdc_f_u_probability_array, wh_dist, mu_L, sigma2_L = warehouse_subbatch_demand_probability_array(Q_dealer_arr, mu_dealer_arr, \n",
    "    sigma_dealer_arr, demand_type_arr, L_wh, Q_subbatch_size, compounding_dist_matrix)\n",
    "\n",
    "\n",
    "outdataDF.loc[outdataDF[\"Type\"] == \"Dealer\",\"Q, subbatches\"] = Q_dealer_arr/Q_subbatch_size\n",
    "\n",
    "outdataDF.loc[outdataDF[\"Type\"] == \"RDC\",\"Demand type\"] = wh_dist\n",
    "outdataDF.loc[outdataDF[\"Type\"] == \"RDC\",\"Lead time demand mean\"] = mu_L * Q_subbatch_size\n",
    "outdataDF.loc[outdataDF[\"Type\"] == \"RDC\",\"Lead time demand stdev\"] = math.sqrt(sigma2_L) * Q_subbatch_size\n",
    "outdataDF.loc[outdataDF[\"Type\"] == \"RDC\",\"Demand mean\"] = mu_L * Q_subbatch_size/L_wh\n",
    "outdataDF.loc[outdataDF[\"Type\"] == \"RDC\",\"Demand stdev\"] = math.sqrt(sigma2_L * Q_subbatch_size/L_wh)\n",
    "outdataDF.loc[outdataDF[\"Type\"] == \"RDC\", \"Demand variance\"] = sigma2_L * Q_subbatch_size/L_wh\n",
    "\n"
   ]
  },
  {
   "cell_type": "markdown",
   "metadata": {},
   "source": [
    "RDC reorder-point optimization"
   ]
  },
  {
   "cell_type": "code",
   "execution_count": 44,
   "metadata": {},
   "outputs": [],
   "source": [
    "h_dealer_arr = indataDF.get(indataDF[\"Type\"] == \"Dealer\").get(\"Holding cost\").to_numpy()\n",
    "fill_rate_target_arr = indataDF.get(indataDF[\"Type\"] == \"Dealer\").get(\"Target item fill rate\").to_numpy()\n",
    "p_dealer_arr = fill_rate_target_arr*h_dealer_arr/(np.ones_like(fill_rate_target_arr)-fill_rate_target_arr)\n",
    "l_dealer_arr = indataDF.get(indataDF[\"Type\"] == \"Dealer\").get(\"Transport time\").to_numpy()\n",
    "mu_wh = mu_L/L_wh * Q_subbatch_size\n",
    "\n",
    "beta_list = []\n",
    "for h,Q,p,l,my,sigma in zip(h_dealer_arr,Q_dealer_arr,p_dealer_arr,l_dealer_arr,mu_dealer_arr,sigma_dealer_arr):\n",
    "    beta_list.append(induced_backorder_cost_opt(h,Q,p,l,my,sigma))\n",
    "\n",
    "beta_arr = np.array(beta_list)\n",
    "\n",
    "beta_rdc = weighting_backorder_cost(mu_dealer_arr,mu_wh,beta_arr)\n",
    "outdataDF.loc[outdataDF[\"Type\"] == \"Dealer\", \"Shortage cost\"] = p_dealer_arr\n",
    "outdataDF.loc[outdataDF[\"Type\"] == \"RDC\", \"Beta\"] = beta_rdc\n",
    "outdataDF.loc[outdataDF[\"Type\"] == \"Dealer\", \"Beta\"] = beta_arr\n",
    "#print(f\"Optimal weighted induced backorder cost at the warehouse is: {beta_rdc}, betas are: {beta_arr}\")\n",
    "\n"
   ]
  },
  {
   "cell_type": "code",
   "execution_count": 45,
   "metadata": {},
   "outputs": [],
   "source": [
    "h_rdc = float(indataDF.get(indataDF[\"Type\"] == \"RDC\").get(\"Holding cost\"))\n",
    "Q_0 = int(int(indataDF.get(indataDF[\"Type\"] == \"RDC\").get(\"Q\"))/Q_subbatch_size)\n",
    "\n",
    "R_0 = warehouse_optimization(Q_subbatch_size,Q_0,rdc_f_u_probability_array,h_rdc,beta_rdc)\n",
    "\n",
    "outdataDF.loc[outdataDF[\"Type\"] == \"RDC\", \"Q, subbatches\"] = Q_0\n",
    "outdataDF.loc[outdataDF[\"Type\"] == \"RDC\", \"R, subbatches\"] = R_0\n",
    "#outdataDF\n"
   ]
  },
  {
   "cell_type": "code",
   "execution_count": 46,
   "metadata": {},
   "outputs": [],
   "source": [
    "\n",
    "W = waiting_time(negative_inventory(Q_subbatch_size,Q_0,R_0,rdc_f_u_probability_array),L_wh,mu_L,Q_subbatch_size)\n",
    "outdataDF.loc[outdataDF[\"Type\"]== \"Dealer\", \"Waiting time\"] = W\n",
    "L_lead_time = outdataDF.get(outdataDF[\"Type\"]== \"Dealer\").get(\"Transport time\").to_numpy() + W\n",
    "outdataDF.loc[outdataDF[\"Type\"] == \"Dealer\", \"Lead time\"] = L_lead_time\n",
    "outdataDF.loc[outdataDF[\"Type\"] == \"Dealer\", \"Lead time demand mean\"] = outdataDF.get(outdataDF[\"Type\"]== \"Dealer\").get(\"Lead time\").to_numpy()*outdataDF.get(outdataDF[\"Type\"]== \"Dealer\").get(\"Demand mean\").to_numpy()\n",
    "\n",
    "#To get the lead time demand stdv, we multiply sqrt(lead time)*demand stdev.\n",
    "sqrt_dealer_lead_time_arr = np.sqrt(L_lead_time)\n",
    "outdataDF.loc[outdataDF[\"Type\"] == \"Dealer\", \"Lead time demand stdev\"] = sqrt_dealer_lead_time_arr*outdataDF.get(outdataDF[\"Type\"]== \"Dealer\").get(\"Demand stdev\").to_numpy()\n",
    "outdataDF.loc[outdataDF[\"Type\"] == \"RDC\", \"Lead time\"] = indataDF.get(indataDF[\"Type\"] == \"RDC\").get(\"Transport time\")"
   ]
  },
  {
   "cell_type": "code",
   "execution_count": 47,
   "metadata": {},
   "outputs": [],
   "source": [
    "# Computing MTBA (1/Lambda)\n",
    "mu_L_array = outdataDF.get(outdataDF[\"Type\"] == \"Dealer\").get(\"Lead time demand mean\").to_numpy()\n",
    "\n",
    "# compute lambda from axsäter 5.4\n",
    "MTBA_arr = np.zeros_like(mu_L_array)\n",
    "for i,mu in enumerate(mu_L_array):\n",
    "    compounding_dist_arr = compounding_dist_matrix[i]\n",
    "    j_arr = np.arange(start=1,stop=len(compounding_dist_arr)+1)\n",
    "    lam = mu/j_arr.dot(compounding_dist_arr)\n",
    "    MTBA_arr[i] = 1/lam\n",
    "outdataDF.loc[outdataDF[\"Type\"]== \"Dealer\", \"MTBA\"] = MTBA_arr\n",
    "\n"
   ]
  },
  {
   "cell_type": "code",
   "execution_count": 48,
   "metadata": {},
   "outputs": [
    {
     "ename": "NameError",
     "evalue": "name 'kwargs' is not defined",
     "output_type": "error",
     "traceback": [
      "\u001b[0;31m---------------------------------------------------------------------------\u001b[0m",
      "\u001b[0;31mNameError\u001b[0m                                 Traceback (most recent call last)",
      "Input \u001b[0;32mIn [48]\u001b[0m, in \u001b[0;36m<cell line: 3>\u001b[0;34m()\u001b[0m\n\u001b[1;32m      2\u001b[0m L_dealer_arr \u001b[39m=\u001b[39m outdataDF\u001b[39m.\u001b[39mget(outdataDF[\u001b[39m\"\u001b[39m\u001b[39mType\u001b[39m\u001b[39m\"\u001b[39m] \u001b[39m==\u001b[39m \u001b[39m\"\u001b[39m\u001b[39mDealer\u001b[39m\u001b[39m\"\u001b[39m)\u001b[39m.\u001b[39mget(\u001b[39m\"\u001b[39m\u001b[39mLead time\u001b[39m\u001b[39m\"\u001b[39m)\n\u001b[1;32m      3\u001b[0m \u001b[39mfor\u001b[39;00m Q,L_est,fill_rate_target,demand_type,mu,sigma,compounding_dist_arr \u001b[39min\u001b[39;00m \u001b[39mzip\u001b[39m(Q_dealer_arr,\n\u001b[1;32m      4\u001b[0m     L_dealer_arr,fill_rate_target_arr,demand_type_arr, mu_dealer_arr,sigma_dealer_arr, compounding_dist_matrix):\n\u001b[0;32m----> 6\u001b[0m     opt_dealer_list\u001b[39m.\u001b[39mappend(dealer_R_optimization(Q,L_est,fill_rate_target,demand_type,mu,demand_variance \u001b[39m=\u001b[39;49m math\u001b[39m.\u001b[39;49mpow(sigma,\u001b[39m2\u001b[39;49m),compounding_dist_arr\u001b[39m=\u001b[39;49mcompounding_dist_arr))\n\u001b[1;32m      8\u001b[0m R_opt_dealer_list,fill_rate_dealer_list,exp_stock_on_hand_list \u001b[39m=\u001b[39m [],[],[]\n\u001b[1;32m      9\u001b[0m \u001b[39mfor\u001b[39;00m tup \u001b[39min\u001b[39;00m opt_dealer_list:\n",
      "File \u001b[0;32m~/Documents/VSCode/Master_thesis-2/single_echelon_utils/dealer_optimization.py:32\u001b[0m, in \u001b[0;36mdealer_R_optimization\u001b[0;34m(Q, L_est, fill_rate_target, demand_type, demand_mean, **kwargs)\u001b[0m\n\u001b[1;32m     <a href='file:///Users/AlexanderLarsson/Documents/VSCode/Master_thesis-2/single_echelon_utils/dealer_optimization.py?line=10'>11</a>\u001b[0m \u001b[39mdef\u001b[39;00m \u001b[39mdealer_R_optimization\u001b[39m(Q: \u001b[39mint\u001b[39m, L_est: \u001b[39mfloat\u001b[39m, fill_rate_target: \u001b[39mfloat\u001b[39m, demand_type: \u001b[39mstr\u001b[39m, \n\u001b[1;32m     <a href='file:///Users/AlexanderLarsson/Documents/VSCode/Master_thesis-2/single_echelon_utils/dealer_optimization.py?line=11'>12</a>\u001b[0m     demand_mean: \u001b[39mfloat\u001b[39m, demand_variance: \u001b[39mfloat\u001b[39m \u001b[39m=\u001b[39m \u001b[39m-\u001b[39m\u001b[39m1\u001b[39m, compounding_dist_arr: np\u001b[39m.\u001b[39mndarray \u001b[39m=\u001b[39m \u001b[39m-\u001b[39m\u001b[39m1\u001b[39m\u001b[39m*\u001b[39mnp\u001b[39m.\u001b[39mones(\u001b[39m10\u001b[39m), \n\u001b[1;32m     <a href='file:///Users/AlexanderLarsson/Documents/VSCode/Master_thesis-2/single_echelon_utils/dealer_optimization.py?line=12'>13</a>\u001b[0m     name: \u001b[39mstr\u001b[39m \u001b[39m=\u001b[39m \u001b[39m\"\u001b[39m\u001b[39mNo name passed.\u001b[39m\u001b[39m\"\u001b[39m) \u001b[39m-\u001b[39m\u001b[39m>\u001b[39m \u001b[39mtuple\u001b[39m[\u001b[39mint\u001b[39m,\u001b[39mfloat\u001b[39m,\u001b[39mfloat\u001b[39m]:\n\u001b[1;32m     <a href='file:///Users/AlexanderLarsson/Documents/VSCode/Master_thesis-2/single_echelon_utils/dealer_optimization.py?line=13'>14</a>\u001b[0m     \u001b[39m\"\"\"Function for optimizing R at dealers.\u001b[39;00m\n\u001b[1;32m     <a href='file:///Users/AlexanderLarsson/Documents/VSCode/Master_thesis-2/single_echelon_utils/dealer_optimization.py?line=14'>15</a>\u001b[0m \n\u001b[1;32m     <a href='file:///Users/AlexanderLarsson/Documents/VSCode/Master_thesis-2/single_echelon_utils/dealer_optimization.py?line=15'>16</a>\u001b[0m \u001b[39m    Note! If demand_type = \"Poisson\", the demand variance, by definition, equals \u001b[39;00m\n\u001b[1;32m     <a href='file:///Users/AlexanderLarsson/Documents/VSCode/Master_thesis-2/single_echelon_utils/dealer_optimization.py?line=16'>17</a>\u001b[0m \u001b[39m    demand mean and the \"demand_variance\" parameter is not used.\u001b[39;00m\n\u001b[1;32m     <a href='file:///Users/AlexanderLarsson/Documents/VSCode/Master_thesis-2/single_echelon_utils/dealer_optimization.py?line=17'>18</a>\u001b[0m \u001b[39m    \u001b[39;00m\n\u001b[1;32m     <a href='file:///Users/AlexanderLarsson/Documents/VSCode/Master_thesis-2/single_echelon_utils/dealer_optimization.py?line=18'>19</a>\u001b[0m \u001b[39m    params:\u001b[39;00m\n\u001b[1;32m     <a href='file:///Users/AlexanderLarsson/Documents/VSCode/Master_thesis-2/single_echelon_utils/dealer_optimization.py?line=19'>20</a>\u001b[0m \u001b[39m        Q: int, given order quantity.\u001b[39;00m\n\u001b[1;32m     <a href='file:///Users/AlexanderLarsson/Documents/VSCode/Master_thesis-2/single_echelon_utils/dealer_optimization.py?line=20'>21</a>\u001b[0m \u001b[39m        L_est: float, Lead time estimate in time units.\u001b[39;00m\n\u001b[1;32m     <a href='file:///Users/AlexanderLarsson/Documents/VSCode/Master_thesis-2/single_echelon_utils/dealer_optimization.py?line=21'>22</a>\u001b[0m \u001b[39m        fill_rate_target: float.\u001b[39;00m\n\u001b[1;32m     <a href='file:///Users/AlexanderLarsson/Documents/VSCode/Master_thesis-2/single_echelon_utils/dealer_optimization.py?line=22'>23</a>\u001b[0m \u001b[39m        \u001b[39;00m\n\u001b[1;32m     <a href='file:///Users/AlexanderLarsson/Documents/VSCode/Master_thesis-2/single_echelon_utils/dealer_optimization.py?line=23'>24</a>\u001b[0m \u001b[39m        demand_type: \"Poisson\",\"NBD\",\"Normal\",\"Normal_Adjusted\", \"Compound_Poisson_empiric\".\u001b[39;00m\n\u001b[1;32m     <a href='file:///Users/AlexanderLarsson/Documents/VSCode/Master_thesis-2/single_echelon_utils/dealer_optimization.py?line=24'>25</a>\u001b[0m \u001b[39m        demand_mean: float, mean demand during a time unit.\u001b[39;00m\n\u001b[1;32m     <a href='file:///Users/AlexanderLarsson/Documents/VSCode/Master_thesis-2/single_echelon_utils/dealer_optimization.py?line=25'>26</a>\u001b[0m \u001b[39m        demand_variance: float, variance of demand during a time unit. Not\u001b[39;00m\n\u001b[1;32m     <a href='file:///Users/AlexanderLarsson/Documents/VSCode/Master_thesis-2/single_echelon_utils/dealer_optimization.py?line=26'>27</a>\u001b[0m \u001b[39m            required if demand_type is \"Poisson\".\u001b[39;00m\n\u001b[1;32m     <a href='file:///Users/AlexanderLarsson/Documents/VSCode/Master_thesis-2/single_echelon_utils/dealer_optimization.py?line=27'>28</a>\u001b[0m \n\u001b[1;32m     <a href='file:///Users/AlexanderLarsson/Documents/VSCode/Master_thesis-2/single_echelon_utils/dealer_optimization.py?line=28'>29</a>\u001b[0m \u001b[39m        compounding_dist_arr: Array of demand size probabilities used for \u001b[39;00m\n\u001b[1;32m     <a href='file:///Users/AlexanderLarsson/Documents/VSCode/Master_thesis-2/single_echelon_utils/dealer_optimization.py?line=29'>30</a>\u001b[0m \u001b[39m            demand_type = \"Compound_Poisson_empiric\" and \"Normal_Adjusted\".\u001b[39;00m\n\u001b[1;32m     <a href='file:///Users/AlexanderLarsson/Documents/VSCode/Master_thesis-2/single_echelon_utils/dealer_optimization.py?line=30'>31</a>\u001b[0m \u001b[39m    \u001b[39;00m\n\u001b[0;32m---> <a href='file:///Users/AlexanderLarsson/Documents/VSCode/Master_thesis-2/single_echelon_utils/dealer_optimization.py?line=31'>32</a>\u001b[0m \u001b[39m    returns:\u001b[39;00m\n\u001b[1;32m     <a href='file:///Users/AlexanderLarsson/Documents/VSCode/Master_thesis-2/single_echelon_utils/dealer_optimization.py?line=32'>33</a>\u001b[0m \u001b[39m        R_opt, realized_fill_rate, expected_stock_on_hand.\u001b[39;00m\n\u001b[1;32m     <a href='file:///Users/AlexanderLarsson/Documents/VSCode/Master_thesis-2/single_echelon_utils/dealer_optimization.py?line=33'>34</a>\u001b[0m \u001b[39m    \"\"\"\u001b[39;00m\n\u001b[1;32m     <a href='file:///Users/AlexanderLarsson/Documents/VSCode/Master_thesis-2/single_echelon_utils/dealer_optimization.py?line=34'>35</a>\u001b[0m     func_name \u001b[39m=\u001b[39m \u001b[39mf\u001b[39m\u001b[39m\"\u001b[39m\u001b[39mdealer_R_optimization_\u001b[39m\u001b[39m{\u001b[39;00mdemand_type\u001b[39m}\u001b[39;00m\u001b[39m\"\u001b[39m\n\u001b[1;32m     <a href='file:///Users/AlexanderLarsson/Documents/VSCode/Master_thesis-2/single_echelon_utils/dealer_optimization.py?line=36'>37</a>\u001b[0m     \u001b[39mreturn\u001b[39;00m \u001b[39mglobals\u001b[39m()[func_name](Q \u001b[39m=\u001b[39m Q, L_est \u001b[39m=\u001b[39m L_est, fill_rate_target \u001b[39m=\u001b[39m fill_rate_target, \n\u001b[1;32m     <a href='file:///Users/AlexanderLarsson/Documents/VSCode/Master_thesis-2/single_echelon_utils/dealer_optimization.py?line=37'>38</a>\u001b[0m         demand_mean \u001b[39m=\u001b[39m demand_mean, demand_variance \u001b[39m=\u001b[39m demand_variance, compounding_dist_arr \u001b[39m=\u001b[39m compounding_dist_arr,\n\u001b[1;32m     <a href='file:///Users/AlexanderLarsson/Documents/VSCode/Master_thesis-2/single_echelon_utils/dealer_optimization.py?line=38'>39</a>\u001b[0m         name \u001b[39m=\u001b[39m name)\n",
      "File \u001b[0;32m~/Documents/VSCode/Master_thesis-2/single_echelon_utils/dealer_optimization.py:143\u001b[0m, in \u001b[0;36mdealer_R_optimization_Empiric_Compound_Poisson\u001b[0;34m(Q, L_est, fill_rate_target, demand_mean, demand_variance, compounding_dist_arr)\u001b[0m\n\u001b[1;32m    <a href='file:///Users/AlexanderLarsson/Documents/VSCode/Master_thesis-2/single_echelon_utils/dealer_optimization.py?line=141'>142</a>\u001b[0m \u001b[39mdef\u001b[39;00m \u001b[39mdealer_R_optimization_Empiric_Compound_Poisson\u001b[39m(\u001b[39m*\u001b[39m\u001b[39m*\u001b[39mkwargs):\n\u001b[0;32m--> <a href='file:///Users/AlexanderLarsson/Documents/VSCode/Master_thesis-2/single_echelon_utils/dealer_optimization.py?line=142'>143</a>\u001b[0m     \u001b[39m\"\"\"Function finds minimum R that fulfils target service level for empiric compound poisson.\u001b[39;00m\n\u001b[1;32m    <a href='file:///Users/AlexanderLarsson/Documents/VSCode/Master_thesis-2/single_echelon_utils/dealer_optimization.py?line=143'>144</a>\u001b[0m \u001b[39m    \u001b[39;00m\n\u001b[1;32m    <a href='file:///Users/AlexanderLarsson/Documents/VSCode/Master_thesis-2/single_echelon_utils/dealer_optimization.py?line=144'>145</a>\u001b[0m \u001b[39m    Params:\u001b[39;00m\n\u001b[1;32m    <a href='file:///Users/AlexanderLarsson/Documents/VSCode/Master_thesis-2/single_echelon_utils/dealer_optimization.py?line=145'>146</a>\u001b[0m \u001b[39m        Q: Given order quantity.\u001b[39;00m\n\u001b[1;32m    <a href='file:///Users/AlexanderLarsson/Documents/VSCode/Master_thesis-2/single_echelon_utils/dealer_optimization.py?line=146'>147</a>\u001b[0m \u001b[39m        L_est: Lead time estimate\u001b[39;00m\n\u001b[1;32m    <a href='file:///Users/AlexanderLarsson/Documents/VSCode/Master_thesis-2/single_echelon_utils/dealer_optimization.py?line=147'>148</a>\u001b[0m \u001b[39m        fill_rate_target\u001b[39;00m\n\u001b[1;32m    <a href='file:///Users/AlexanderLarsson/Documents/VSCode/Master_thesis-2/single_echelon_utils/dealer_optimization.py?line=148'>149</a>\u001b[0m \u001b[39m        demand_mean: Mean demand during a time unit.\u001b[39;00m\n\u001b[1;32m    <a href='file:///Users/AlexanderLarsson/Documents/VSCode/Master_thesis-2/single_echelon_utils/dealer_optimization.py?line=149'>150</a>\u001b[0m \u001b[39m        demand_variance: Variance of demand during a time unit.\u001b[39;00m\n\u001b[1;32m    <a href='file:///Users/AlexanderLarsson/Documents/VSCode/Master_thesis-2/single_echelon_utils/dealer_optimization.py?line=150'>151</a>\u001b[0m \u001b[39m        compounding_dist_arr: Array of probabilities of order sizes.\u001b[39;00m\n\u001b[1;32m    <a href='file:///Users/AlexanderLarsson/Documents/VSCode/Master_thesis-2/single_echelon_utils/dealer_optimization.py?line=151'>152</a>\u001b[0m \u001b[39m        \u001b[39;00m\n\u001b[1;32m    <a href='file:///Users/AlexanderLarsson/Documents/VSCode/Master_thesis-2/single_echelon_utils/dealer_optimization.py?line=152'>153</a>\u001b[0m \u001b[39m    Returns:\u001b[39;00m\n\u001b[1;32m    <a href='file:///Users/AlexanderLarsson/Documents/VSCode/Master_thesis-2/single_echelon_utils/dealer_optimization.py?line=153'>154</a>\u001b[0m \u001b[39m        R, Q, fill_rate, E_IL\u001b[39;00m\n\u001b[1;32m    <a href='file:///Users/AlexanderLarsson/Documents/VSCode/Master_thesis-2/single_echelon_utils/dealer_optimization.py?line=154'>155</a>\u001b[0m \u001b[39m        \"\"\"\u001b[39;00m\n\u001b[1;32m    <a href='file:///Users/AlexanderLarsson/Documents/VSCode/Master_thesis-2/single_echelon_utils/dealer_optimization.py?line=156'>157</a>\u001b[0m     \u001b[39massert\u001b[39;00m kwargs[\u001b[39m\"\u001b[39m\u001b[39mdemand_variance\u001b[39m\u001b[39m\"\u001b[39m] \u001b[39m!=\u001b[39m \u001b[39m-\u001b[39m\u001b[39m1\u001b[39m, \u001b[39m\"\u001b[39m\u001b[39mVariance is -1 (default value), has the variance been entered correctly?\u001b[39m\u001b[39m\"\u001b[39m\n\u001b[1;32m    <a href='file:///Users/AlexanderLarsson/Documents/VSCode/Master_thesis-2/single_echelon_utils/dealer_optimization.py?line=157'>158</a>\u001b[0m     demand_arr \u001b[39m=\u001b[39m demand_probability_array_empiric_compound_poisson(L \u001b[39m=\u001b[39m kwargs[\u001b[39m\"\u001b[39m\u001b[39mL_est\u001b[39m\u001b[39m\"\u001b[39m],\n\u001b[1;32m    <a href='file:///Users/AlexanderLarsson/Documents/VSCode/Master_thesis-2/single_echelon_utils/dealer_optimization.py?line=158'>159</a>\u001b[0m         E_z \u001b[39m=\u001b[39m kwargs[\u001b[39m\"\u001b[39m\u001b[39mdemand_mean\u001b[39m\u001b[39m\"\u001b[39m], V_z \u001b[39m=\u001b[39m kwargs[\u001b[39m\"\u001b[39m\u001b[39mdemand_variance\u001b[39m\u001b[39m\"\u001b[39m],\n\u001b[1;32m    <a href='file:///Users/AlexanderLarsson/Documents/VSCode/Master_thesis-2/single_echelon_utils/dealer_optimization.py?line=159'>160</a>\u001b[0m         compounding_dist_arr \u001b[39m=\u001b[39m kwargs[\u001b[39m\"\u001b[39m\u001b[39mcompounding_dist_arr\u001b[39m\u001b[39m\"\u001b[39m])\n",
      "\u001b[0;31mNameError\u001b[0m: name 'kwargs' is not defined"
     ]
    }
   ],
   "source": [
    "opt_dealer_list = []\n",
    "L_dealer_arr = outdataDF.get(outdataDF[\"Type\"] == \"Dealer\").get(\"Lead time\")\n",
    "for Q,L_est,fill_rate_target,demand_type,mu,sigma,compounding_dist_arr in zip(Q_dealer_arr,\n",
    "    L_dealer_arr,fill_rate_target_arr,demand_type_arr, mu_dealer_arr,sigma_dealer_arr, compounding_dist_matrix):\n",
    "    \n",
    "    opt_dealer_list.append(dealer_R_optimization(Q,L_est,fill_rate_target,demand_type,mu,demand_variance = math.pow(sigma,2),compounding_dist_arr=compounding_dist_arr))\n",
    "\n",
    "R_opt_dealer_list,fill_rate_dealer_list,exp_stock_on_hand_list = [],[],[]\n",
    "for tup in opt_dealer_list:\n",
    "    R_opt_dealer_list.append(tup[0])\n",
    "    fill_rate_dealer_list.append(tup[1])\n",
    "    exp_stock_on_hand_list.append(tup[2])\n",
    "\n",
    "outdataDF.loc[outdataDF[\"Type\"] == \"Dealer\", \"R optimal\"] = R_opt_dealer_list\n",
    "outdataDF.loc[outdataDF[\"Type\"] == \"Dealer\", \"Realized item fill rate\"] = fill_rate_dealer_list\n",
    "outdataDF.loc[outdataDF[\"Type\"] == \"Dealer\", \"Expected stock on hand\"] = exp_stock_on_hand_list\n",
    "\n",
    "outdataDF.loc[outdataDF[\"Type\"] == \"RDC\",\"R optimal\"] = R_0*Q_subbatch_size # In units.\n",
    "outdataDF.loc[outdataDF[\"Type\"] == \"RDC\",\"Expected stock on hand\"] = positive_inventory(Q_subbatch_size,Q_0,R_0,rdc_f_u_probability_array)\n",
    "outdataDF.loc[outdataDF[\"Type\"] == \"RDC\",\"Expected backorders\"] = negative_inventory(Q_subbatch_size,Q_0,R_0,rdc_f_u_probability_array)\n"
   ]
  },
  {
   "cell_type": "code",
   "execution_count": null,
   "metadata": {},
   "outputs": [],
   "source": [
    "# List comprehension for exp backorders.\n",
    "outdataDF.loc[outdataDF[\"Type\"] == \"Dealer\", \"Expected backorders\"] = [ \n",
    "    expected_backorders_discrete(R,Q,lt_mu,exp_stock_on_hand) for \n",
    "    R,Q,lt_mu,exp_stock_on_hand in zip(R_opt_dealer_list,Q_dealer_arr,\n",
    "    outdataDF.get(outdataDF[\"Type\"] == \"Dealer\").get(\"Lead time demand mean\").to_numpy(),\n",
    "    exp_stock_on_hand_list) ]"
   ]
  },
  {
   "cell_type": "code",
   "execution_count": null,
   "metadata": {},
   "outputs": [],
   "source": [
    "# Adding costs\n",
    "outdataDF.loc[outdataDF[\"Type\"] == \"Dealer\", \"Expected holding costs per time unit\"] = h_dealer_arr*np.array(exp_stock_on_hand_list)\n",
    "outdataDF.loc[outdataDF[\"Type\"] == \"Dealer\", \"Expected shortage costs per time unit\"] = outdataDF.get(\n",
    "    outdataDF[\"Type\"] == \"Dealer\").get(\"Expected backorders\").to_numpy()*p_dealer_arr\n",
    "outdataDF.loc[outdataDF[\"Type\"] == \"Dealer\", \"Total expected costs\"] = outdataDF.get(outdataDF[\"Type\"] == \"Dealer\").get(\"Expected holding costs per time unit\").to_numpy() + outdataDF.get(outdataDF[\"Type\"] == \"Dealer\").get(\"Expected shortage costs per time unit\").to_numpy()\n",
    "\n",
    "outdataDF.loc[outdataDF[\"Type\"] == \"RDC\", \"Expected holding costs per time unit\"] = h_rdc*outdataDF.get(outdataDF[\"Type\"] == \"RDC\").get(\"Expected stock on hand\").to_numpy()\n",
    "outdataDF.loc[outdataDF[\"Type\"] == \"RDC\", \"Total expected costs\"] = outdataDF.get(outdataDF[\"Type\"] == \"RDC\").get(\"Expected holding costs per time unit\").to_numpy()\n",
    "\n"
   ]
  },
  {
   "cell_type": "code",
   "execution_count": null,
   "metadata": {},
   "outputs": [
    {
     "data": {
      "text/html": [
       "<div>\n",
       "<style scoped>\n",
       "    .dataframe tbody tr th:only-of-type {\n",
       "        vertical-align: middle;\n",
       "    }\n",
       "\n",
       "    .dataframe tbody tr th {\n",
       "        vertical-align: top;\n",
       "    }\n",
       "\n",
       "    .dataframe thead th {\n",
       "        text-align: right;\n",
       "    }\n",
       "</style>\n",
       "<table border=\"1\" class=\"dataframe\">\n",
       "  <thead>\n",
       "    <tr style=\"text-align: right;\">\n",
       "      <th></th>\n",
       "      <th>Installation id</th>\n",
       "      <th>Type</th>\n",
       "      <th>Name</th>\n",
       "      <th>Transport time</th>\n",
       "      <th>Q</th>\n",
       "      <th>Reorder point</th>\n",
       "      <th>Holding cost</th>\n",
       "      <th>Target item fill rate</th>\n",
       "      <th>Demand type</th>\n",
       "      <th>Demand mean</th>\n",
       "      <th>...</th>\n",
       "      <th>Waiting time</th>\n",
       "      <th>Lead time</th>\n",
       "      <th>MTBA</th>\n",
       "      <th>R optimal</th>\n",
       "      <th>Realized item fill rate</th>\n",
       "      <th>Expected stock on hand</th>\n",
       "      <th>Expected backorders</th>\n",
       "      <th>Expected holding costs per time unit</th>\n",
       "      <th>Expected shortage costs per time unit</th>\n",
       "      <th>Total expected costs</th>\n",
       "    </tr>\n",
       "  </thead>\n",
       "  <tbody>\n",
       "    <tr>\n",
       "      <th>0</th>\n",
       "      <td>1</td>\n",
       "      <td>RDC</td>\n",
       "      <td>Johannesburg</td>\n",
       "      <td>20</td>\n",
       "      <td>50</td>\n",
       "      <td>10</td>\n",
       "      <td>1</td>\n",
       "      <td>NaN</td>\n",
       "      <td>Gamma</td>\n",
       "      <td>1.0</td>\n",
       "      <td>...</td>\n",
       "      <td>NaN</td>\n",
       "      <td>20.000000</td>\n",
       "      <td>NaN</td>\n",
       "      <td>5.0</td>\n",
       "      <td>NaN</td>\n",
       "      <td>14.622753</td>\n",
       "      <td>2.122604</td>\n",
       "      <td>14.622753</td>\n",
       "      <td>NaN</td>\n",
       "      <td>14.622753</td>\n",
       "    </tr>\n",
       "    <tr>\n",
       "      <th>1</th>\n",
       "      <td>2</td>\n",
       "      <td>Dealer</td>\n",
       "      <td>Deal1</td>\n",
       "      <td>5</td>\n",
       "      <td>5</td>\n",
       "      <td>5</td>\n",
       "      <td>5</td>\n",
       "      <td>0.95</td>\n",
       "      <td>Empiric_Compound_Poisson</td>\n",
       "      <td>1.0</td>\n",
       "      <td>...</td>\n",
       "      <td>2.122604</td>\n",
       "      <td>7.122604</td>\n",
       "      <td>0.294836</td>\n",
       "      <td>14.0</td>\n",
       "      <td>0.951255</td>\n",
       "      <td>9.958783</td>\n",
       "      <td>0.081387</td>\n",
       "      <td>49.793916</td>\n",
       "      <td>7.731796</td>\n",
       "      <td>57.525712</td>\n",
       "    </tr>\n",
       "  </tbody>\n",
       "</table>\n",
       "<p>2 rows × 28 columns</p>\n",
       "</div>"
      ],
      "text/plain": [
       "   Installation id    Type          Name  Transport time   Q  Reorder point  \\\n",
       "0                1     RDC  Johannesburg              20  50             10   \n",
       "1                2  Dealer         Deal1               5   5              5   \n",
       "\n",
       "   Holding cost  Target item fill rate               Demand type  Demand mean  \\\n",
       "0             1                    NaN                     Gamma          1.0   \n",
       "1             5                   0.95  Empiric_Compound_Poisson          1.0   \n",
       "\n",
       "   ...  Waiting time  Lead time      MTBA  R optimal  Realized item fill rate  \\\n",
       "0  ...           NaN  20.000000       NaN        5.0                      NaN   \n",
       "1  ...      2.122604   7.122604  0.294836       14.0                 0.951255   \n",
       "\n",
       "   Expected stock on hand  Expected backorders  \\\n",
       "0               14.622753             2.122604   \n",
       "1                9.958783             0.081387   \n",
       "\n",
       "   Expected holding costs per time unit  \\\n",
       "0                             14.622753   \n",
       "1                             49.793916   \n",
       "\n",
       "   Expected shortage costs per time unit  Total expected costs  \n",
       "0                                    NaN             14.622753  \n",
       "1                               7.731796             57.525712  \n",
       "\n",
       "[2 rows x 28 columns]"
      ]
     },
     "execution_count": 50,
     "metadata": {},
     "output_type": "execute_result"
    }
   ],
   "source": [
    "#excel_path_outdata = \"/Users/AlexanderLarsson/documents/VSCode/outdata.xlsx\"\n",
    "#outdataDF.to_excel(excel_path_outdata,sheet_name = \"Outdata_latest_testrun\")\n",
    "\n",
    "outdataDF\n"
   ]
  },
  {
   "cell_type": "markdown",
   "metadata": {},
   "source": []
  },
  {
   "cell_type": "markdown",
   "metadata": {},
   "source": []
  },
  {
   "cell_type": "markdown",
   "metadata": {},
   "source": []
  }
 ],
 "metadata": {
  "interpreter": {
   "hash": "12d6cfd3ecb2dfa9ee95dd40e3b1bce170efa21642c0ba9dab004f8f04c14370"
  },
  "kernelspec": {
   "display_name": "Python 3.10.2 ('master_thesis')",
   "language": "python",
   "name": "python3"
  },
  "language_info": {
   "codemirror_mode": {
    "name": "ipython",
    "version": 3
   },
   "file_extension": ".py",
   "mimetype": "text/x-python",
   "name": "python",
   "nbconvert_exporter": "python",
   "pygments_lexer": "ipython3",
   "version": "3.10.2"
  },
  "orig_nbformat": 4
 },
 "nbformat": 4,
 "nbformat_minor": 2
}
