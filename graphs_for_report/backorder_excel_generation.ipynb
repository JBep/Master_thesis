{
 "cells": [
  {
   "cell_type": "code",
   "execution_count": 13,
   "metadata": {},
   "outputs": [
    {
     "name": "stdout",
     "output_type": "stream",
     "text": [
      "REMOVE in test no: 2 not found\n",
      "REMOVE in test no: 8 not found\n",
      "REMOVE in test no: 13 not found\n",
      "REMOVE in test no: 13 not found\n"
     ]
    }
   ],
   "source": [
    "import pandas as pd\n",
    "import numpy as np\n",
    "tests = [1,2,3,4,5,6,7,8,9,10,11,12,13]\n",
    "\n",
    "simulation_dir = '/Volumes/GoogleDrive/.shortcut-targets-by-id/10oYqI9u7nCLK0q7xF2CvGGIQVokusjaI/Exjobb/10. Testing/Simulation'\n",
    "excel_path = f\"{simulation_dir}/backorder_costs.xlsx\"\n",
    "writer = pd.ExcelWriter(excel_path)\n",
    "for test_no in tests:\n",
    "    path_excel_sim_input_ME = f\"{simulation_dir}/Input Multi-echelon/InputToSimulation_Test_{test_no}.xlsx\"\n",
    "\n",
    "    ## Extracting item list:\n",
    "    item_list_df = pd.read_excel(path_excel_sim_input_ME,usecols = \"B\")\n",
    "    item_list_df = item_list_df[9:15]\n",
    "    item_list_df.columns = [\"ID\"]\n",
    "    id_list = []\n",
    "    for val in item_list_df[\"ID\"]:\n",
    "        id = val[12:].strip()\n",
    "        id_list.append(id)\n",
    "    \n",
    "    backorder_costs_df = pd.DataFrame(columns = id_list)\n",
    "\n",
    "    # Reading shortage costs\n",
    "    for item_id in id_list:\n",
    "        b_cost_list = []\n",
    "\n",
    "        output_dir = '/Volumes/GoogleDrive/.shortcut-targets-by-id/10oYqI9u7nCLK0q7xF2CvGGIQVokusjaI/Exjobb/7. Data collection/outdata_multi_echelon_csv_files'\n",
    "        try: \n",
    "            output_df = pd.read_csv(f\"{output_dir}/item_{item_id}_output.csv\")\n",
    "        except FileNotFoundError:\n",
    "            print(f\"{item_id} in test no: {test_no} not found\")\n",
    "            b_cost_list = np.zeros(16)\n",
    "            backorder_costs_df[item_id] = b_cost_list\n",
    "            continue\n",
    "\n",
    "        backorder_costs = output_df['Estimated shortage cost'].to_numpy()\n",
    "        backorder_costs = backorder_costs[:-1] # Removing nan value for RDC\n",
    "        backorder_costs = np.pad(backorder_costs,pad_width = (0,16-len(backorder_costs)))\n",
    "\n",
    "        backorder_costs_df[item_id] = backorder_costs\n",
    "\n",
    "        \n",
    "            \n",
    "    backorder_costs_df.to_excel(writer,sheet_name=f\"Test {test_no}\")\n",
    "writer.save()\n",
    "    \n",
    "    "
   ]
  },
  {
   "cell_type": "code",
   "execution_count": 15,
   "metadata": {},
   "outputs": [
    {
     "name": "stdout",
     "output_type": "stream",
     "text": [
      "REMOVE in test no: 2 not found\n",
      "REMOVE in test no: 8 not found\n",
      "REMOVE in test no: 13 not found\n",
      "REMOVE in test no: 13 not found\n"
     ]
    }
   ],
   "source": [
    "simulation_dir = '/Volumes/GoogleDrive/.shortcut-targets-by-id/10oYqI9u7nCLK0q7xF2CvGGIQVokusjaI/Exjobb/10. Testing/Simulation'\n",
    "excel_path = f\"{simulation_dir}/SE_combined_R.xlsx\"\n",
    "writer = pd.ExcelWriter(excel_path)\n",
    "for test_no in tests:\n",
    "    path_excel_sim_input_ME = f\"{simulation_dir}/Input Multi-echelon/InputToSimulation_Test_{test_no}.xlsx\"\n",
    "\n",
    "    ## Extracting item list:\n",
    "    item_list_df = pd.read_excel(path_excel_sim_input_ME,usecols = \"B\")\n",
    "    item_list_df = item_list_df[9:15]\n",
    "    item_list_df.columns = [\"ID\"]\n",
    "    id_list = []\n",
    "    for val in item_list_df[\"ID\"]:\n",
    "        id = val[12:].strip()\n",
    "        id_list.append(id)\n",
    "    \n",
    "    reorder_points_df = pd.DataFrame(columns = id_list)\n",
    "\n",
    "    # Reading shortage costs\n",
    "    for item_id in id_list:\n",
    "        R_list = []\n",
    "\n",
    "        output_dir = '/Volumes/GoogleDrive/.shortcut-targets-by-id/10oYqI9u7nCLK0q7xF2CvGGIQVokusjaI/Exjobb/7. Data collection/outdata_single_echelon_csv_files'\n",
    "        try: \n",
    "            output_df = pd.read_csv(f\"{output_dir}/item_{item_id}_output_SE.csv\")\n",
    "        except FileNotFoundError:\n",
    "            print(f\"{item_id} in test no: {test_no} not found\")\n",
    "            R_list = np.zeros(16)\n",
    "            reorder_points_df[item_id] = R_list\n",
    "            continue\n",
    "\n",
    "        reorder_points = output_df['R optimal'].to_numpy()\n",
    "        reorder_points = reorder_points[:-1] # Removing nan value for RDC\n",
    "        reorder_points = np.pad(reorder_points,pad_width = (0,16-len(reorder_points)))\n",
    "\n",
    "        reorder_points_df[item_id] = reorder_points\n",
    "\n",
    "        \n",
    "            \n",
    "    reorder_points_df.to_excel(writer,sheet_name=f\"Test {test_no}\")\n",
    "writer.save()"
   ]
  },
  {
   "cell_type": "code",
   "execution_count": null,
   "metadata": {},
   "outputs": [],
   "source": []
  }
 ],
 "metadata": {
  "interpreter": {
   "hash": "12d6cfd3ecb2dfa9ee95dd40e3b1bce170efa21642c0ba9dab004f8f04c14370"
  },
  "kernelspec": {
   "display_name": "Python 3.10.2 ('master_thesis')",
   "language": "python",
   "name": "python3"
  },
  "language_info": {
   "codemirror_mode": {
    "name": "ipython",
    "version": 3
   },
   "file_extension": ".py",
   "mimetype": "text/x-python",
   "name": "python",
   "nbconvert_exporter": "python",
   "pygments_lexer": "ipython3",
   "version": "3.10.2"
  },
  "orig_nbformat": 4
 },
 "nbformat": 4,
 "nbformat_minor": 2
}
